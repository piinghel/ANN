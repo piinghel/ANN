{
 "cells": [
  {
   "cell_type": "code",
   "execution_count": null,
   "metadata": {
    "colab": {},
    "colab_type": "code",
    "id": "45wWS4Ng3Qja"
   },
   "outputs": [],
   "source": [
    "%tensorflow_version 1.x\n",
    "\n",
    "%cd /content\n",
    "! rm -rf gan-tools\n",
    "!git clone --single-branch --depth=1 --branch master https://github.com/hannesdm/gan-tools.git\n",
    "%cd gan-tools\n",
    "from keras.datasets import mnist\n",
    "from keras import initializers\n",
    "from keras import Sequential\n",
    "from keras.layers import  Dense\n",
    "from core.gan import GAN, WGAN\n",
    "from core import constraint\n",
    "import matplotlib.pyplot as plt\n",
    "plt.rcParams['image.cmap'] = 'gray'\n",
    "plt.rcParams['axes.grid'] = False\n"
   ]
  },
  {
   "cell_type": "markdown",
   "metadata": {
    "colab_type": "text",
    "id": "dpGHuTd85t06"
   },
   "source": [
    "## Wasserstein GAN\n",
    "We will train a standard GAN and a Wasserstein GAN on the mnist data. <br/>\n",
    "Both variants have a relatively simple fully connected architecture to allow for fast training. This will inevitable produce worse results than larger or specialized models (cfr. DCGAN). <br/>\n",
    "The Wasserstein GAN implementation follows the paper of Arjovsky et al. <br/>\n",
    "You are encouraged to change the parameters and architecture of the model. If you do, do **not** change the **input_dim**,  **final layer** and **wasserstein_params** for the weight clipping version. <br/>\n",
    "**Exercise** Compare the performance of the different GAN formulations over\n",
    "the different iterations, do you see an improvement in stability and quality of the generated samples? <br/>Elaborate based on\n",
    "the knowledge you have gained about optimal transport and the Wasserstein distance."
   ]
  },
  {
   "cell_type": "code",
   "execution_count": null,
   "metadata": {
    "colab": {},
    "colab_type": "code",
    "id": "7G6u-c2151PP"
   },
   "outputs": [],
   "source": [
    "(X_train_mnist, Y_train_mnist), (_, _) = mnist.load_data()\n",
    "X_train_mnist = X_train_mnist.reshape((-1, 28*28))\n",
    "X_train_mnist = X_train_mnist.astype('float32') / 127.5 - 1"
   ]
  },
  {
   "cell_type": "code",
   "execution_count": null,
   "metadata": {
    "colab": {},
    "colab_type": "code",
    "id": "7dxwND5A6ChH"
   },
   "outputs": [],
   "source": [
    "kernel_initializer = initializers.RandomNormal(stddev=0.02)\n",
    "weight_clipping = constraint.WeightClipping(c1=-0.01, c2=0.01)\n",
    "wasserstein_params = {\n",
    "    'kernel_initializer': kernel_initializer,\n",
    "    'kernel_constraint': weight_clipping, 'bias_constraint': weight_clipping}\n",
    "\n",
    "def mnist_generator_model():\n",
    "  generator = Sequential()\n",
    "  generator.add(Dense(256, input_dim=100, activation='relu'))\n",
    "  generator.add(Dense(256, activation='relu'))\n",
    "  generator.add(Dense(784, activation='tanh'))\n",
    "  return generator\n",
    "\n",
    "def mnist_discriminator_model():\n",
    "  discriminator = Sequential()\n",
    "  discriminator.add(Dense(256, input_dim=784, activation='relu'))\n",
    "  discriminator.add(Dense(256, activation='relu'))\n",
    "  discriminator.add(Dense(1, activation='sigmoid'))\n",
    "  return discriminator\n",
    "\n",
    "def mnist_wgan_discriminator_model():\n",
    "  discriminator = Sequential()\n",
    "  discriminator.add(Dense(256, input_dim=784, activation='relu'))\n",
    "  discriminator.add(Dense(256, activation='relu'))\n",
    "  discriminator.add(Dense(1, activation='linear'))\n",
    "  return discriminator\n",
    "\n",
    "def mnist_weight_clipping_discriminator_model():\n",
    "  discriminator = Sequential()\n",
    "  discriminator.add(Dense(256, input_dim=784, activation='relu', **wasserstein_params))\n",
    "  discriminator.add(Dense(256, activation='relu', **wasserstein_params))\n",
    "  discriminator.add(Dense(1, activation='linear', **wasserstein_params))\n",
    "  return discriminator"
   ]
  },
  {
   "cell_type": "markdown",
   "metadata": {
    "colab_type": "text",
    "id": "LrFpaw_49QAN"
   },
   "source": [
    "## Train the standard GAN\n",
    "The parameters **batches**, **batch_size** and **plot_interval** may be changed if wanted. <br/>\n",
    "Remember that the execution may be interrupted at any time by clicking the stop button or by selecting the 'interrupt execution' option in the runtime menu."
   ]
  },
  {
   "cell_type": "code",
   "execution_count": null,
   "metadata": {
    "colab": {},
    "colab_type": "code",
    "id": "QQvA6cyW9MI6"
   },
   "outputs": [],
   "source": [
    "mnist_gan = GAN(discriminator=mnist_discriminator_model(), generator=mnist_generator_model())\n",
    "mnist_gan.train_random_batches(X_train_mnist, batches = 20000, batch_size=64, plot_interval = 500, image_shape=(28,28))"
   ]
  },
  {
   "cell_type": "markdown",
   "metadata": {
    "colab_type": "text",
    "id": "TEm1VpMq-TH9"
   },
   "source": [
    "## Train the Wasserstein GAN with Weight Clipping\n",
    "The Discriminator in the GAN framework now performs the role of a critic, instead of a classifier.\n",
    "The original way to enforce the Lipschitz constraint on the critic is by making sure the weights lie in a compact space. This can be done by clipping the weights after each gradient update. This implementation follows the work by Arjovsky et al. See https://arxiv.org/pdf/1701.07875.pdf  <br/>\n",
    "\n",
    "The parameters **batches**, **batch_size** and **plot_interval** may be changed if wanted. <br/>\n",
    "Remember that the execution may be interrupted at any time by clicking the stop button or by selecting the 'interrupt execution' option in the runtime menu."
   ]
  },
  {
   "cell_type": "code",
   "execution_count": null,
   "metadata": {
    "colab": {},
    "colab_type": "code",
    "id": "b7MfT6D_9_ZF"
   },
   "outputs": [],
   "source": [
    "mnist_wgan = GAN(discriminator=mnist_weight_clipping_discriminator_model(), generator=mnist_generator_model(), gen_loss='wasserstein', dis_loss='wasserstein')\n",
    "mnist_wgan.train_random_batches(X_train_mnist, batches=20000, batch_size=64,\n",
    "                                plot_interval = 500, image_shape=(28,28), nr_train_discriminator=5)"
   ]
  },
  {
   "cell_type": "markdown",
   "metadata": {
    "colab_type": "text",
    "id": "2GlYGPTPaVgb"
   },
   "source": [
    "## Wasserstein GAN with Gradient Penalty\n",
    "A more natural way of enforcing the Lipschitz constraint in the Wasserstein GAN formulation is by penalizing the norm of the gradient of the critic. This implementation follows the work of Gulrajani et al. See https://arxiv.org/pdf/1704.00028.pdf <br/>\n",
    "The parameters **batches**, **batch_size** and **plot_interval** may be changed if wanted. <br/>\n",
    "Remember that the execution may be interrupted at any time by clicking the stop button or by selecting the 'interrupt execution' option in the runtime menu."
   ]
  },
  {
   "cell_type": "code",
   "execution_count": null,
   "metadata": {
    "colab": {},
    "colab_type": "code",
    "id": "7BMAFmMKaO_X"
   },
   "outputs": [],
   "source": [
    "mnist_wgan_gp = WGAN(discriminator=mnist_wgan_discriminator_model(), generator=mnist_generator_model(), gen_loss='wasserstein', dis_loss = 'wasserstein')\n",
    "mnist_wgan_gp.train_random_batches(X_train_mnist, batches=20000, batch_size=64,\n",
    "                                plot_interval = 500, image_shape=(28,28), nr_train_discriminator=5)"
   ]
  }
 ],
 "metadata": {
  "accelerator": "GPU",
  "colab": {
   "name": "WGAN.ipynb",
   "provenance": []
  },
  "kernelspec": {
   "display_name": "Python 3",
   "language": "python",
   "name": "python3"
  },
  "language_info": {
   "codemirror_mode": {
    "name": "ipython",
    "version": 3
   },
   "file_extension": ".py",
   "mimetype": "text/x-python",
   "name": "python",
   "nbconvert_exporter": "python",
   "pygments_lexer": "ipython3",
   "version": "3.7.3"
  }
 },
 "nbformat": 4,
 "nbformat_minor": 4
}
